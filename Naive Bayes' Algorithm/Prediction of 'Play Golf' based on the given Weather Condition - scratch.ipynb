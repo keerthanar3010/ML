{
 "cells": [
  {
   "cell_type": "code",
   "execution_count": 1,
   "id": "215d0f19",
   "metadata": {},
   "outputs": [],
   "source": [
    "import numpy as np\n",
    "import pandas as pd"
   ]
  },
  {
   "cell_type": "code",
   "execution_count": 2,
   "id": "1ae7d62c",
   "metadata": {},
   "outputs": [],
   "source": [
    "golf_df = pd.read_csv(\"./TestData/golf-dataset.csv\")"
   ]
  },
  {
   "cell_type": "code",
   "execution_count": 3,
   "id": "c15c5278",
   "metadata": {},
   "outputs": [],
   "source": [
    "#golf_df[\"Play Golf\"]=golf_df[\"Play Golf\"].map({\"Yes\":1,\"No\":0})"
   ]
  },
  {
   "cell_type": "markdown",
   "id": "62a2800d",
   "metadata": {},
   "source": [
    " "
   ]
  },
  {
   "cell_type": "markdown",
   "id": "5d380261",
   "metadata": {},
   "source": [
    " "
   ]
  },
  {
   "cell_type": "markdown",
   "id": "890a2f9b",
   "metadata": {},
   "source": [
    "# Prior probability"
   ]
  },
  {
   "cell_type": "code",
   "execution_count": 4,
   "id": "0afa8014",
   "metadata": {},
   "outputs": [],
   "source": [
    "# Prior probability calculation \n",
    "\n",
    "def prior_prob(df,val):\n",
    "    total = df.shape[0]\n",
    "    val_count = df[\"Play Golf\"].value_counts()[val]\n",
    "    return val_count/total"
   ]
  },
  {
   "cell_type": "code",
   "execution_count": 5,
   "id": "5eedf57b",
   "metadata": {},
   "outputs": [
    {
     "data": {
      "text/plain": [
       "0.6428571428571429"
      ]
     },
     "execution_count": 5,
     "metadata": {},
     "output_type": "execute_result"
    }
   ],
   "source": [
    "yvalue = prior_prob(golf_df,\"Yes\")\n",
    "yvalue"
   ]
  },
  {
   "cell_type": "code",
   "execution_count": 6,
   "id": "f545c58b",
   "metadata": {},
   "outputs": [
    {
     "data": {
      "text/plain": [
       "{'Yes': 0.6428571428571429, 'No': 0.35714285714285715}"
      ]
     },
     "execution_count": 6,
     "metadata": {},
     "output_type": "execute_result"
    }
   ],
   "source": [
    "prior = {\"Yes\" : prior_prob(golf_df,\"Yes\"),\n",
    "        \"No\": prior_prob(golf_df,\"No\")}\n",
    "prior"
   ]
  },
  {
   "cell_type": "markdown",
   "id": "f9362767",
   "metadata": {},
   "source": [
    " "
   ]
  },
  {
   "cell_type": "markdown",
   "id": "2615e121",
   "metadata": {},
   "source": [
    " "
   ]
  },
  {
   "cell_type": "markdown",
   "id": "096fde07",
   "metadata": {},
   "source": [
    "# Conditional Probability "
   ]
  },
  {
   "cell_type": "code",
   "execution_count": 7,
   "id": "2f9295e2",
   "metadata": {},
   "outputs": [],
   "source": [
    "def conditional_prob(df,feature,feature_value,label):\n",
    "    filtered_data = df[df[\"Play Golf\"]==label]\n",
    "    numerator = np.sum(filtered_data[feature]==feature_value)\n",
    "    denominator = filtered_data.shape[0]\n",
    "   \n",
    "    return numerator/denominator "
   ]
  },
  {
   "cell_type": "code",
   "execution_count": 8,
   "id": "f31479d3",
   "metadata": {},
   "outputs": [
    {
     "data": {
      "text/plain": [
       "0.3333333333333333"
      ]
     },
     "execution_count": 8,
     "metadata": {},
     "output_type": "execute_result"
    }
   ],
   "source": [
    "conditional_prob(golf_df,\"Outlook\",\"Sunny\",\"Yes\")"
   ]
  },
  {
   "cell_type": "markdown",
   "id": "630d8638",
   "metadata": {},
   "source": [
    " "
   ]
  },
  {
   "cell_type": "markdown",
   "id": "53245e1e",
   "metadata": {},
   "source": [
    " "
   ]
  },
  {
   "cell_type": "markdown",
   "id": "c7873270",
   "metadata": {},
   "source": [
    "# Likelihood probability"
   ]
  },
  {
   "cell_type": "code",
   "execution_count": 9,
   "id": "54fe6017",
   "metadata": {},
   "outputs": [
    {
     "data": {
      "text/plain": [
       "{'No': {'Outlook': {'Rainy': 0.6, 'Overcast': 0.0, 'Sunny': 0.4},\n",
       "  'Temp': {'Hot': 0.4, 'Mild': 0.4, 'Cool': 0.2},\n",
       "  'Humidity': {'High': 0.8, 'Normal': 0.2},\n",
       "  'Windy': {False: 0.4, True: 0.6}},\n",
       " 'Yes': {'Outlook': {'Rainy': 0.22, 'Overcast': 0.44, 'Sunny': 0.33},\n",
       "  'Temp': {'Hot': 0.22, 'Mild': 0.44, 'Cool': 0.33},\n",
       "  'Humidity': {'High': 0.33, 'Normal': 0.67},\n",
       "  'Windy': {False: 0.67, True: 0.33}}}"
      ]
     },
     "execution_count": 9,
     "metadata": {},
     "output_type": "execute_result"
    }
   ],
   "source": [
    "# likelihood probability for all the features\n",
    "\n",
    "cond_prob = {}\n",
    "\n",
    "for label in golf_df[\"Play Golf\"].unique():  # to get 0 and 1\n",
    "    cond_prob[label] = {}\n",
    "    features = list(golf_df.columns)[:-1]\n",
    "    for feature in features: # to get outlook, temp, humidity and windy ==> features name\n",
    "        cond_prob[label][feature] = {}\n",
    "        for feat_val in golf_df[feature].unique(): # To get features values like outlook = sunny, overcast and rainy\n",
    "            cond_prob[label][feature][feat_val] = round(conditional_prob(golf_df,feature,feat_val,label),2)\n",
    "cond_prob"
   ]
  },
  {
   "cell_type": "markdown",
   "id": "1b72a541",
   "metadata": {},
   "source": [
    " "
   ]
  },
  {
   "cell_type": "markdown",
   "id": "22d38291",
   "metadata": {},
   "source": [
    " "
   ]
  },
  {
   "cell_type": "markdown",
   "id": "24ce5946",
   "metadata": {},
   "source": [
    " # Posterior Probability"
   ]
  },
  {
   "cell_type": "code",
   "execution_count": 10,
   "id": "b2070ca9",
   "metadata": {},
   "outputs": [
    {
     "data": {
      "text/plain": [
       "['Outlook', 'Temp', 'Humidity', 'Windy']"
      ]
     },
     "execution_count": 10,
     "metadata": {},
     "output_type": "execute_result"
    }
   ],
   "source": [
    "features"
   ]
  },
  {
   "cell_type": "code",
   "execution_count": 11,
   "id": "ff9ff657",
   "metadata": {},
   "outputs": [
    {
     "name": "stdout",
     "output_type": "stream",
     "text": [
      "No 0.004571428571428573\n",
      "Yes 0.02095080428571429\n"
     ]
    }
   ],
   "source": [
    "# posterior probability calculation for given weather condition\n",
    "\n",
    "x_test = [\"Sunny\",\"Hot\",\"Normal\",False]\n",
    "\n",
    "for label in golf_df[\"Play Golf\"].unique():\n",
    "    \n",
    "    prior = prior_prob(golf_df,label)\n",
    "    likelihood = 1.0\n",
    "    \n",
    "    for i in range (len(features)):\n",
    "        feature = features[i]\n",
    "        feat_val = x_test[i]\n",
    "        \n",
    "        likelihood  *= cond_prob[label][feature][feat_val]\n",
    "    post = likelihood * prior\n",
    "    print(label,post)\n",
    "    \n"
   ]
  },
  {
   "cell_type": "markdown",
   "id": "886d7cdc",
   "metadata": {},
   "source": [
    " "
   ]
  },
  {
   "cell_type": "markdown",
   "id": "b477e008",
   "metadata": {},
   "source": [
    " "
   ]
  },
  {
   "cell_type": "markdown",
   "id": "c9be1118",
   "metadata": {},
   "source": [
    " "
   ]
  },
  {
   "cell_type": "markdown",
   "id": "8bc1815d",
   "metadata": {},
   "source": [
    " "
   ]
  },
  {
   "cell_type": "markdown",
   "id": "a132ad77",
   "metadata": {},
   "source": [
    "# Implementation using Sklearn"
   ]
  },
  {
   "cell_type": "markdown",
   "id": "2b37f647",
   "metadata": {},
   "source": [
    " Note: Sklearn cannot work with text data, so we need to convert text data to numerical data.\n",
    " We can use Label encoder from sklearn to do this."
   ]
  },
  {
   "cell_type": "code",
   "execution_count": 12,
   "id": "c4c7c18a",
   "metadata": {},
   "outputs": [],
   "source": [
    "from sklearn.preprocessing import LabelEncoder"
   ]
  },
  {
   "cell_type": "code",
   "execution_count": 13,
   "id": "2c6e0ef3",
   "metadata": {},
   "outputs": [],
   "source": [
    "le1 = LabelEncoder()\n",
    "golf_df[\"Outlook\"] = le1.fit_transform(golf_df[\"Outlook\"])"
   ]
  },
  {
   "cell_type": "code",
   "execution_count": 14,
   "id": "cac54f3a",
   "metadata": {},
   "outputs": [],
   "source": [
    "le2 = LabelEncoder()\n",
    "golf_df[\"Temp\"] = le2.fit_transform(golf_df[\"Temp\"])"
   ]
  },
  {
   "cell_type": "code",
   "execution_count": 15,
   "id": "e36d0ee8",
   "metadata": {},
   "outputs": [],
   "source": [
    "le3 = LabelEncoder()\n",
    "golf_df[\"Humidity\"] = le3.fit_transform(golf_df[\"Humidity\"])"
   ]
  },
  {
   "cell_type": "code",
   "execution_count": 16,
   "id": "83813e4e",
   "metadata": {},
   "outputs": [],
   "source": [
    "le4 = LabelEncoder()\n",
    "golf_df[\"Windy\"] = le4.fit_transform(golf_df[\"Windy\"])"
   ]
  },
  {
   "cell_type": "code",
   "execution_count": 17,
   "id": "43db2582",
   "metadata": {},
   "outputs": [],
   "source": [
    "le5 = LabelEncoder()\n",
    "golf_df[\"Play Golf\"]= le5.fit_transform(golf_df[\"Play Golf\"])"
   ]
  },
  {
   "cell_type": "code",
   "execution_count": 18,
   "id": "7ec65822",
   "metadata": {},
   "outputs": [],
   "source": [
    "X = golf_df.iloc[:,:-1]\n",
    "Y = golf_df.iloc[:,-1]"
   ]
  },
  {
   "cell_type": "code",
   "execution_count": 19,
   "id": "37f50aa4",
   "metadata": {},
   "outputs": [],
   "source": [
    "from sklearn.naive_bayes import CategoricalNB"
   ]
  },
  {
   "cell_type": "code",
   "execution_count": 20,
   "id": "79250e75",
   "metadata": {},
   "outputs": [],
   "source": [
    "model = CategoricalNB()"
   ]
  },
  {
   "cell_type": "code",
   "execution_count": 21,
   "id": "98591bf7",
   "metadata": {},
   "outputs": [
    {
     "data": {
      "text/html": [
       "<style>#sk-container-id-1 {color: black;}#sk-container-id-1 pre{padding: 0;}#sk-container-id-1 div.sk-toggleable {background-color: white;}#sk-container-id-1 label.sk-toggleable__label {cursor: pointer;display: block;width: 100%;margin-bottom: 0;padding: 0.3em;box-sizing: border-box;text-align: center;}#sk-container-id-1 label.sk-toggleable__label-arrow:before {content: \"▸\";float: left;margin-right: 0.25em;color: #696969;}#sk-container-id-1 label.sk-toggleable__label-arrow:hover:before {color: black;}#sk-container-id-1 div.sk-estimator:hover label.sk-toggleable__label-arrow:before {color: black;}#sk-container-id-1 div.sk-toggleable__content {max-height: 0;max-width: 0;overflow: hidden;text-align: left;background-color: #f0f8ff;}#sk-container-id-1 div.sk-toggleable__content pre {margin: 0.2em;color: black;border-radius: 0.25em;background-color: #f0f8ff;}#sk-container-id-1 input.sk-toggleable__control:checked~div.sk-toggleable__content {max-height: 200px;max-width: 100%;overflow: auto;}#sk-container-id-1 input.sk-toggleable__control:checked~label.sk-toggleable__label-arrow:before {content: \"▾\";}#sk-container-id-1 div.sk-estimator input.sk-toggleable__control:checked~label.sk-toggleable__label {background-color: #d4ebff;}#sk-container-id-1 div.sk-label input.sk-toggleable__control:checked~label.sk-toggleable__label {background-color: #d4ebff;}#sk-container-id-1 input.sk-hidden--visually {border: 0;clip: rect(1px 1px 1px 1px);clip: rect(1px, 1px, 1px, 1px);height: 1px;margin: -1px;overflow: hidden;padding: 0;position: absolute;width: 1px;}#sk-container-id-1 div.sk-estimator {font-family: monospace;background-color: #f0f8ff;border: 1px dotted black;border-radius: 0.25em;box-sizing: border-box;margin-bottom: 0.5em;}#sk-container-id-1 div.sk-estimator:hover {background-color: #d4ebff;}#sk-container-id-1 div.sk-parallel-item::after {content: \"\";width: 100%;border-bottom: 1px solid gray;flex-grow: 1;}#sk-container-id-1 div.sk-label:hover label.sk-toggleable__label {background-color: #d4ebff;}#sk-container-id-1 div.sk-serial::before {content: \"\";position: absolute;border-left: 1px solid gray;box-sizing: border-box;top: 0;bottom: 0;left: 50%;z-index: 0;}#sk-container-id-1 div.sk-serial {display: flex;flex-direction: column;align-items: center;background-color: white;padding-right: 0.2em;padding-left: 0.2em;position: relative;}#sk-container-id-1 div.sk-item {position: relative;z-index: 1;}#sk-container-id-1 div.sk-parallel {display: flex;align-items: stretch;justify-content: center;background-color: white;position: relative;}#sk-container-id-1 div.sk-item::before, #sk-container-id-1 div.sk-parallel-item::before {content: \"\";position: absolute;border-left: 1px solid gray;box-sizing: border-box;top: 0;bottom: 0;left: 50%;z-index: -1;}#sk-container-id-1 div.sk-parallel-item {display: flex;flex-direction: column;z-index: 1;position: relative;background-color: white;}#sk-container-id-1 div.sk-parallel-item:first-child::after {align-self: flex-end;width: 50%;}#sk-container-id-1 div.sk-parallel-item:last-child::after {align-self: flex-start;width: 50%;}#sk-container-id-1 div.sk-parallel-item:only-child::after {width: 0;}#sk-container-id-1 div.sk-dashed-wrapped {border: 1px dashed gray;margin: 0 0.4em 0.5em 0.4em;box-sizing: border-box;padding-bottom: 0.4em;background-color: white;}#sk-container-id-1 div.sk-label label {font-family: monospace;font-weight: bold;display: inline-block;line-height: 1.2em;}#sk-container-id-1 div.sk-label-container {text-align: center;}#sk-container-id-1 div.sk-container {/* jupyter's `normalize.less` sets `[hidden] { display: none; }` but bootstrap.min.css set `[hidden] { display: none !important; }` so we also need the `!important` here to be able to override the default hidden behavior on the sphinx rendered scikit-learn.org. See: https://github.com/scikit-learn/scikit-learn/issues/21755 */display: inline-block !important;position: relative;}#sk-container-id-1 div.sk-text-repr-fallback {display: none;}</style><div id=\"sk-container-id-1\" class=\"sk-top-container\"><div class=\"sk-text-repr-fallback\"><pre>CategoricalNB()</pre><b>In a Jupyter environment, please rerun this cell to show the HTML representation or trust the notebook. <br />On GitHub, the HTML representation is unable to render, please try loading this page with nbviewer.org.</b></div><div class=\"sk-container\" hidden><div class=\"sk-item\"><div class=\"sk-estimator sk-toggleable\"><input class=\"sk-toggleable__control sk-hidden--visually\" id=\"sk-estimator-id-1\" type=\"checkbox\" checked><label for=\"sk-estimator-id-1\" class=\"sk-toggleable__label sk-toggleable__label-arrow\">CategoricalNB</label><div class=\"sk-toggleable__content\"><pre>CategoricalNB()</pre></div></div></div></div></div>"
      ],
      "text/plain": [
       "CategoricalNB()"
      ]
     },
     "execution_count": 21,
     "metadata": {},
     "output_type": "execute_result"
    }
   ],
   "source": [
    "model.fit(X,Y)"
   ]
  },
  {
   "cell_type": "code",
   "execution_count": 22,
   "id": "741593f4",
   "metadata": {},
   "outputs": [],
   "source": [
    "x_test = [\"Sunny\",\"Hot\",\"Normal\",False]"
   ]
  },
  {
   "cell_type": "code",
   "execution_count": 23,
   "id": "4a4dfc21",
   "metadata": {},
   "outputs": [
    {
     "data": {
      "text/plain": [
       "array([2])"
      ]
     },
     "execution_count": 23,
     "metadata": {},
     "output_type": "execute_result"
    }
   ],
   "source": [
    "le1.transform(['Sunny'])"
   ]
  },
  {
   "cell_type": "code",
   "execution_count": 24,
   "id": "f0814a51",
   "metadata": {},
   "outputs": [
    {
     "data": {
      "text/plain": [
       "array([1])"
      ]
     },
     "execution_count": 24,
     "metadata": {},
     "output_type": "execute_result"
    }
   ],
   "source": [
    "le2.transform(['Hot'])"
   ]
  },
  {
   "cell_type": "code",
   "execution_count": 25,
   "id": "4feec1c5",
   "metadata": {},
   "outputs": [
    {
     "data": {
      "text/plain": [
       "array([1])"
      ]
     },
     "execution_count": 25,
     "metadata": {},
     "output_type": "execute_result"
    }
   ],
   "source": [
    "le3.transform(['Normal'])"
   ]
  },
  {
   "cell_type": "code",
   "execution_count": 26,
   "id": "2d84b3e9",
   "metadata": {},
   "outputs": [
    {
     "data": {
      "text/plain": [
       "array([0], dtype=int64)"
      ]
     },
     "execution_count": 26,
     "metadata": {},
     "output_type": "execute_result"
    }
   ],
   "source": [
    "le4.transform([False])"
   ]
  },
  {
   "cell_type": "code",
   "execution_count": 27,
   "id": "40bb95ed",
   "metadata": {},
   "outputs": [],
   "source": [
    "x_test = np.array([[2,1,1,0]])"
   ]
  },
  {
   "cell_type": "code",
   "execution_count": 28,
   "id": "6aca870e",
   "metadata": {},
   "outputs": [
    {
     "name": "stderr",
     "output_type": "stream",
     "text": [
      "C:\\Users\\keerthana.r\\AppData\\Local\\anaconda3\\Lib\\site-packages\\sklearn\\base.py:464: UserWarning: X does not have valid feature names, but CategoricalNB was fitted with feature names\n",
      "  warnings.warn(\n"
     ]
    },
    {
     "data": {
      "text/plain": [
       "array([1])"
      ]
     },
     "execution_count": 28,
     "metadata": {},
     "output_type": "execute_result"
    }
   ],
   "source": [
    "model.predict(x_test)"
   ]
  },
  {
   "cell_type": "markdown",
   "id": "c1b80fe2",
   "metadata": {},
   "source": [
    "So, model is prediction class yes in the encoded i.e., 1"
   ]
  },
  {
   "cell_type": "code",
   "execution_count": 30,
   "id": "4062e525",
   "metadata": {},
   "outputs": [
    {
     "name": "stderr",
     "output_type": "stream",
     "text": [
      "C:\\Users\\keerthana.r\\AppData\\Local\\anaconda3\\Lib\\site-packages\\sklearn\\base.py:464: UserWarning: X does not have valid feature names, but CategoricalNB was fitted with feature names\n",
      "  warnings.warn(\n"
     ]
    },
    {
     "data": {
      "text/plain": [
       "array([[0.22086561, 0.77913439]])"
      ]
     },
     "execution_count": 30,
     "metadata": {},
     "output_type": "execute_result"
    }
   ],
   "source": [
    "model.predict_proba(x_test)"
   ]
  },
  {
   "cell_type": "markdown",
   "id": "733b54d6",
   "metadata": {},
   "source": [
    "From the above probability we can get to know that the probability of class 'yes' is 0.77 and class 'no' is 0.22. Hence given dataset belongs to class 'yes'(1)"
   ]
  },
  {
   "cell_type": "code",
   "execution_count": null,
   "id": "02147f9a",
   "metadata": {},
   "outputs": [],
   "source": []
  }
 ],
 "metadata": {
  "kernelspec": {
   "display_name": "Python 3 (ipykernel)",
   "language": "python",
   "name": "python3"
  },
  "language_info": {
   "codemirror_mode": {
    "name": "ipython",
    "version": 3
   },
   "file_extension": ".py",
   "mimetype": "text/x-python",
   "name": "python",
   "nbconvert_exporter": "python",
   "pygments_lexer": "ipython3",
   "version": "3.11.5"
  }
 },
 "nbformat": 4,
 "nbformat_minor": 5
}
