{
 "cells": [
  {
   "cell_type": "markdown",
   "id": "54656f19",
   "metadata": {},
   "source": [
    "### Why Check Accuracy on Both Training and Testing Data\n",
    "Training Data Accuracy:\n",
    "1. This measures how well the model has learned the patterns in the training data.\n",
    "2. If the accuracy on training data is very low, it indicates underfitting, meaning the model is too simple to capture the patterns in the data.\n",
    "\n",
    "Testing Data Accuracy:\n",
    "1. This measures how well the model generalizes to unseen data.\n",
    "2. If the accuracy on testing data is much lower than on training data, it indicates overfitting, meaning the model has memorized the training data but cannot generalize to new data.\n"
   ]
  },
  {
   "cell_type": "markdown",
   "id": "618cdc0b",
   "metadata": {},
   "source": [
    "> Always evaluate both training and testing accuracy to detect underfitting or overfitting."
   ]
  },
  {
   "cell_type": "code",
   "execution_count": null,
   "id": "63c6cb38",
   "metadata": {},
   "outputs": [],
   "source": []
  },
  {
   "cell_type": "markdown",
   "id": "d3a41067",
   "metadata": {},
   "source": [
    "### Accuracy Calculation"
   ]
  },
  {
   "cell_type": "markdown",
   "id": "03a80f1c",
   "metadata": {},
   "source": [
    "Accuracy is calculated as the ratio of correctly predicted instances to the total number of instances in the dataset. It is a common metric used to evaluate the performance of classification models."
   ]
  },
  {
   "cell_type": "markdown",
   "id": "59c95818",
   "metadata": {},
   "source": [
    "### Accuracy = (TP + TN) / (TP + TN + FP + FN)"
   ]
  },
  {
   "cell_type": "markdown",
   "id": "22dc6617",
   "metadata": {},
   "source": [
    "Where:\n",
    "\n",
    "* True Positives (TP): Correctly predicted positive instances.\n",
    "* True Negatives (TN): Correctly predicted negative instances.\n",
    "* False Positives (FP): Incorrectly predicted positive instances.\n",
    "* False Negatives (FN): Incorrectly predicted negative instances."
   ]
  },
  {
   "cell_type": "code",
   "execution_count": null,
   "id": "5ae14500",
   "metadata": {},
   "outputs": [],
   "source": []
  },
  {
   "cell_type": "markdown",
   "id": "0a21f07f",
   "metadata": {},
   "source": []
  },
  {
   "cell_type": "code",
   "execution_count": null,
   "id": "6e9a9272",
   "metadata": {},
   "outputs": [],
   "source": []
  }
 ],
 "metadata": {
  "kernelspec": {
   "display_name": "Python 3 (ipykernel)",
   "language": "python",
   "name": "python3"
  },
  "language_info": {
   "codemirror_mode": {
    "name": "ipython",
    "version": 3
   },
   "file_extension": ".py",
   "mimetype": "text/x-python",
   "name": "python",
   "nbconvert_exporter": "python",
   "pygments_lexer": "ipython3",
   "version": "3.11.5"
  }
 },
 "nbformat": 4,
 "nbformat_minor": 5
}
